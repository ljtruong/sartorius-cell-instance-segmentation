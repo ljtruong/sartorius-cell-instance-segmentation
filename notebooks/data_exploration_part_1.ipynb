{
 "cells": [
  {
   "cell_type": "markdown",
   "metadata": {},
   "source": [
    "# Data Exploration Part 1\n",
    "\n",
    "This notebook investigates simple statistics of the dataset.\n"
   ]
  },
  {
   "cell_type": "code",
   "execution_count": 1,
   "metadata": {},
   "outputs": [
    {
     "name": "stdout",
     "output_type": "stream",
     "text": [
      "current directory:  /home/letruong/projects/sartorius-cell-instance-segmentation\n"
     ]
    }
   ],
   "source": [
    "from cell_segmentation.data.generate_statistics import GenerateStatistics\n",
    "import pandas as pd\n",
    "import matplotlib.pyplot as plt\n",
    "\n",
    "import os\n",
    "import pathlib\n",
    "\n",
    "if \"notebooks\" in pathlib.Path.cwd().parts:\n",
    "  while \"notebooks\" in pathlib.Path.cwd().parts:\n",
    "    os.chdir('..')\n",
    "    print('current directory: ', os.getcwd())\n",
    "\n",
    "\n",
    "train_df = pd.read_csv('data/train.csv')"
   ]
  },
  {
   "cell_type": "code",
   "execution_count": 2,
   "metadata": {},
   "outputs": [
    {
     "name": "stdout",
     "output_type": "stream",
     "text": [
      "numerical statistics\n",
      "         width   height\n",
      "count  73585.0  73585.0\n",
      "mean     704.0    520.0\n",
      "std        0.0      0.0\n",
      "min      704.0    520.0\n",
      "25%      704.0    520.0\n",
      "50%      704.0    520.0\n",
      "75%      704.0    520.0\n",
      "max      704.0    520.0\n",
      "\n",
      "\n",
      "categorical statistics\n",
      "cell_type\n",
      "shsy5y       52286\n",
      "cort         10777\n",
      "astro        10522\n",
      "dtype: int64\n"
     ]
    }
   ],
   "source": [
    "categorical_stats, numerical_stats= GenerateStatistics.get_statistics(train_df, numeric_columns=['width', 'height'], categorical_columns=['cell_type'])\n",
    "print(\"numerical statistics\")\n",
    "print(numerical_stats)\n",
    "print('\\n')\n",
    "print(\"categorical statistics\")\n",
    "print(categorical_stats)"
   ]
  },
  {
   "cell_type": "code",
   "execution_count": 3,
   "metadata": {},
   "outputs": [
    {
     "data": {
      "text/plain": [
       "<AxesSubplot:title={'center':'Distribution of cell types'}>"
      ]
     },
     "execution_count": 3,
     "metadata": {},
     "output_type": "execute_result"
    },
    {
     "data": {
      "image/png": "[encoded data removed]",
      "text/plain": [
       "<Figure size 720x360 with 1 Axes>"
      ]
     },
     "metadata": {
      "needs_background": "light"
     },
     "output_type": "display_data"
    }
   ],
   "source": [
    "train_df['cell_type'].value_counts(sort=True).plot.bar(title='Distribution of cell types', figsize=(10,5))"
   ]
  },
  {
   "cell_type": "markdown",
   "metadata": {},
   "source": [
    "This plot clearly shows we have more samples of the cell type `shsy5y` than `cort` or `astro`. `cort` or `astro` are of close amounts. This indicates an imbalanced dataset.\n",
    "\n",
    "shsy5y (SH-SY5Y) cell type: also known as Neuroblastoma, a type of cancer that forms in certain types of nerve tissue.\n",
    "astro: also known as Astrocytes, star shaped. They perform helpful functions to support the functionality and repair.\n",
    "cort: also known as Neurons\n",
    "\n",
    "https://www.kaggle.com/c/sartorius-cell-instance-segmentation/discussion/282544"
   ]
  },
  {
   "cell_type": "markdown",
   "metadata": {},
   "source": [
    "# Investigate Annotations"
   ]
  },
  {
   "cell_type": "code",
   "execution_count": 4,
   "metadata": {},
   "outputs": [],
   "source": [
    "# annotation area and statistics\n",
    "from cell_segmentation.data.converter.satorius2coco import Satorius2COCO\n",
    "from cell_segmentation.data.datasets import Datasets\n",
    "from cell_segmentation.data.loader import Loader\n",
    "from cell_segmentation.utils.configs import load_config\n",
    "\n",
    "config = \"experiments/mask_rcnn/configs/train.yaml\"\n",
    "cfg = load_config(config)\n",
    "data_loader = Loader(cfg)\n",
    "satorius_converter = Satorius2COCO()\n",
    "df = data_loader.load_static_dataset(filepath=cfg.DATASETS.TRAIN_STATIC_FILE)\n",
    "df = data_loader.preprocess_static_dataset(df)\n",
    "\n",
    "train_df, val_df = Datasets.generate_examples(\n",
    "    df,\n",
    "    seed=cfg.SEED,\n",
    "    train_split=cfg.DATASETS.TRAIN_SPLIT,\n",
    "    test_split=cfg.DATASETS.TEST_SPLIT,\n",
    ")\n",
    "train_dataset = data_loader.build_microscopyimage_from_dataframe(train_df)\n",
    "validation_dataset = data_loader.build_microscopyimage_from_dataframe(val_df)"
   ]
  },
  {
   "cell_type": "markdown",
   "metadata": {},
   "source": [
    "# Distribution of train vs validation\n",
    "\n",
    "ensure we sample from similar distributions of real-world data. Especially the test set, so we understand real-world performance. In absence of this knowledge, we assume the train set is similar distribution to real-world population."
   ]
  },
  {
   "cell_type": "code",
   "execution_count": 35,
   "metadata": {},
   "outputs": [
    {
     "data": {
      "text/plain": [
       "<AxesSubplot:title={'center':'Distribution of cell types'}>"
      ]
     },
     "execution_count": 35,
     "metadata": {},
     "output_type": "execute_result"
    },
    {
     "data": {
      "image/png": "[encoded data removed]",
      "text/plain": [
       "<Figure size 720x360 with 1 Axes>"
      ]
     },
     "metadata": {
      "needs_background": "light"
     },
     "output_type": "display_data"
    }
   ],
   "source": [
    "train_df['cell_type'].value_counts(normalize=True, sort=True).plot.bar(title='Distribution of cell types', figsize=(10,5))"
   ]
  },
  {
   "cell_type": "code",
   "execution_count": 34,
   "metadata": {},
   "outputs": [
    {
     "data": {
      "text/plain": [
       "<AxesSubplot:title={'center':'Distribution of cell types'}>"
      ]
     },
     "execution_count": 34,
     "metadata": {},
     "output_type": "execute_result"
    },
    {
     "data": {
      "image/png": "[encoded data removed]",
      "text/plain": [
       "<Figure size 720x360 with 1 Axes>"
      ]
     },
     "metadata": {
      "needs_background": "light"
     },
     "output_type": "display_data"
    }
   ],
   "source": [
    "val_df['cell_type'].value_counts(normalize=True, sort=True).plot.bar(title='Distribution of cell types', figsize=(10,5))"
   ]
  },
  {
   "cell_type": "markdown",
   "metadata": {},
   "source": [
    "# Average area per cell type\n",
    "\n",
    "Understanding the average area of a cell type will assist when evaluate the IoU metric when investigating small, medium and large object instances in an image. \n",
    "\n",
    "and then within what range a certain cell size can be. This can possible indicate the a confusion of cell type if the model is attempting to detect a specific cell type by size. \n",
    "\n",
    "in addition, if using mask-rcnn, this information assists in selecting the right anchor sizes."
   ]
  },
  {
   "cell_type": "code",
   "execution_count": 13,
   "metadata": {},
   "outputs": [],
   "source": [
    "\n",
    "df = pd.DataFrame(columns=[\"cell_type\", \"area\"])\n",
    "for example in train_dataset:\n",
    "    for annotation in example.annotations:\n",
    "        if annotation:\n",
    "            df = df.append({'cell_type': annotation.segmentation.label, 'area': annotation.segmentation.area}, ignore_index=True)\n",
    "\n",
    "cell_types = [\"astro\", \"shsy5y\", \"cort\"]\n",
    "for cell_type in cell_types:\n",
    "    df[df['cell_type']==cell_type].plot.hist(title=f\"{cell_type}\", figsize=(10,5))\n",
    "    plt.show()\n",
    "        "
   ]
  },
  {
   "cell_type": "markdown",
   "metadata": {},
   "source": [
    "# Mean area per cell type\n",
    "\n",
    "similar as previous, to understand size when investigating IoU metric."
   ]
  },
  {
   "cell_type": "code",
   "execution_count": 15,
   "metadata": {},
   "outputs": [
    {
     "data": {
      "text/html": [
       "<div>\n",
       "<style scoped>\n",
       "    .dataframe tbody tr th:only-of-type {\n",
       "        vertical-align: middle;\n",
       "    }\n",
       "\n",
       "    .dataframe tbody tr th {\n",
       "        vertical-align: top;\n",
       "    }\n",
       "\n",
       "    .dataframe thead th {\n",
       "        text-align: right;\n",
       "    }\n",
       "</style>\n",
       "<table border=\"1\" class=\"dataframe\">\n",
       "  <thead>\n",
       "    <tr style=\"text-align: right;\">\n",
       "      <th></th>\n",
       "      <th>cell_type</th>\n",
       "      <th>area</th>\n",
       "    </tr>\n",
       "  </thead>\n",
       "  <tbody>\n",
       "    <tr>\n",
       "      <th>0</th>\n",
       "      <td>astro</td>\n",
       "      <td>871.748949</td>\n",
       "    </tr>\n",
       "    <tr>\n",
       "      <th>1</th>\n",
       "      <td>cort</td>\n",
       "      <td>237.938497</td>\n",
       "    </tr>\n",
       "    <tr>\n",
       "      <th>2</th>\n",
       "      <td>shsy5y</td>\n",
       "      <td>224.714146</td>\n",
       "    </tr>\n",
       "  </tbody>\n",
       "</table>\n",
       "</div>"
      ],
      "text/plain": [
       "  cell_type        area\n",
       "0     astro  871.748949\n",
       "1      cort  237.938497\n",
       "2    shsy5y  224.714146"
      ]
     },
     "execution_count": 15,
     "metadata": {},
     "output_type": "execute_result"
    }
   ],
   "source": [
    "df.groupby(['cell_type']).agg({'area': 'mean'}).reset_index()"
   ]
  },
  {
   "cell_type": "markdown",
   "metadata": {},
   "source": [
    "# Number of annotations per image\n",
    "\n",
    "This will assist in the configuration of the model, restrict to certain number of proposals and also adjust in inference as default mask rcnn is 100 instance predictions. "
   ]
  },
  {
   "cell_type": "code",
   "execution_count": 56,
   "metadata": {},
   "outputs": [
    {
     "name": "stdout",
     "output_type": "stream",
     "text": [
      "min annotations per image: 5\n",
      "max annotations per image: 790\n",
      "average annotations per image: 125.79\n"
     ]
    }
   ],
   "source": [
    "images = {}\n",
    "for example in train_dataset:\n",
    "    if example.file_id not in images.keys():\n",
    "        images[example.file_id] = len(example.annotations)\n",
    "\n",
    "average_annotations_per_image = sum(images.values())/ len(images.values())\n",
    "print(f\"min annotations per image: {min(images.values())}\")\n",
    "print(f\"max annotations per image: {max(images.values())}\")\n",
    "print(f\"average annotations per image: {average_annotations_per_image:.2f}\")"
   ]
  }
 ],
 "metadata": {
  "interpreter": {
   "hash": "0a419b7213cd28e2224d234e1f13cf00a7d148b98bd40e2b308b8211bb359c08"
  },
  "kernelspec": {
   "display_name": "Python 3.9.7 64-bit ('py39': venv)",
   "name": "python3"
  },
  "language_info": {
   "codemirror_mode": {
    "name": "ipython",
    "version": 3
   },
   "file_extension": ".py",
   "mimetype": "text/x-python",
   "name": "python",
   "nbconvert_exporter": "python",
   "pygments_lexer": "ipython3",
   "version": "3.9.7"
  },
  "orig_nbformat": 4
 },
 "nbformat": 4,
 "nbformat_minor": 2
}
